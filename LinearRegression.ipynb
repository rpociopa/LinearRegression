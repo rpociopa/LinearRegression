{
  "cells": [
    {
      "cell_type": "markdown",
      "source": [
        "### Simple Linear Regression Model\n",
        "##### This is a very simple script that shows how numpy, pandas, and scikit-learn can be used to make a Linear Regression model in Azure Machine Learning.\n",
        "###### The data was taken from Kaggle: https://www.kaggle.com/datasets/luddarell/101-simple-linear-regressioncsv\n",
        "###### The purpose of the data is to determine if GPA and SAT test scores have any correlation."
      ],
      "metadata": {}
    },
    {
      "cell_type": "markdown",
      "source": [
        "We use: <br>\n",
        "1. Pandas to load our data from a CSV file. <br>\n",
        "2. Numpy to put the data into an array, so it can read the data correctly.<br>\n",
        "3. Matplotlib to make some preliminary analysis graphs. <br>\n",
        "4. Scikit-learn to test and evaluate the linear regression model.<br><br>\n",
        "Most Python translators have Pandas and Numpy already installed. You may need to install Matplotlib and Scikit-learn."
      ],
      "metadata": {
        "nteract": {
          "transient": {
            "deleting": false
          }
        }
      }
    },
    {
      "cell_type": "code",
      "source": [
        "# Import Relevant Packages\n",
        "import numpy as np\n",
        "import pandas as pd\n",
        "%pip install matplotlib\n",
        "%pip install scikit-learn\n",
        "import matplotlib.pyplot as plt"
      ],
      "outputs": [
        {
          "output_type": "stream",
          "name": "stdout",
          "text": "Requirement already satisfied: matplotlib in /anaconda/envs/jupyter_env/lib/python3.8/site-packages (3.7.5)\nRequirement already satisfied: python-dateutil>=2.7 in /anaconda/envs/jupyter_env/lib/python3.8/site-packages (from matplotlib) (2.8.2)\nRequirement already satisfied: contourpy>=1.0.1 in /anaconda/envs/jupyter_env/lib/python3.8/site-packages (from matplotlib) (1.1.0)\nRequirement already satisfied: kiwisolver>=1.0.1 in /anaconda/envs/jupyter_env/lib/python3.8/site-packages (from matplotlib) (1.4.5)\nRequirement already satisfied: cycler>=0.10 in /anaconda/envs/jupyter_env/lib/python3.8/site-packages (from matplotlib) (0.12.1)\nRequirement already satisfied: numpy<2,>=1.20 in /anaconda/envs/jupyter_env/lib/python3.8/site-packages (from matplotlib) (1.24.3)\nRequirement already satisfied: pyparsing>=2.3.1 in /anaconda/envs/jupyter_env/lib/python3.8/site-packages (from matplotlib) (3.1.1)\nRequirement already satisfied: importlib-resources>=3.2.0 in /anaconda/envs/jupyter_env/lib/python3.8/site-packages (from matplotlib) (5.12.0)\nRequirement already satisfied: pillow>=6.2.0 in /anaconda/envs/jupyter_env/lib/python3.8/site-packages (from matplotlib) (9.5.0)\nRequirement already satisfied: fonttools>=4.22.0 in /anaconda/envs/jupyter_env/lib/python3.8/site-packages (from matplotlib) (4.49.0)\nRequirement already satisfied: packaging>=20.0 in /anaconda/envs/jupyter_env/lib/python3.8/site-packages (from matplotlib) (23.0)\nRequirement already satisfied: zipp>=3.1.0 in /anaconda/envs/jupyter_env/lib/python3.8/site-packages (from importlib-resources>=3.2.0->matplotlib) (3.15.0)\nRequirement already satisfied: six>=1.5 in /anaconda/envs/jupyter_env/lib/python3.8/site-packages (from python-dateutil>=2.7->matplotlib) (1.16.0)\nNote: you may need to restart the kernel to use updated packages.\nRequirement already satisfied: scikit-learn in /anaconda/envs/jupyter_env/lib/python3.8/site-packages (1.3.2)\nRequirement already satisfied: threadpoolctl>=2.0.0 in /anaconda/envs/jupyter_env/lib/python3.8/site-packages (from scikit-learn) (3.3.0)\nRequirement already satisfied: joblib>=1.1.1 in /anaconda/envs/jupyter_env/lib/python3.8/site-packages (from scikit-learn) (1.3.2)\nRequirement already satisfied: scipy>=1.5.0 in /anaconda/envs/jupyter_env/lib/python3.8/site-packages (from scikit-learn) (1.10.1)\nRequirement already satisfied: numpy<2.0,>=1.17.3 in /anaconda/envs/jupyter_env/lib/python3.8/site-packages (from scikit-learn) (1.24.3)\nNote: you may need to restart the kernel to use updated packages.\n"
        }
      ],
      "execution_count": 1,
      "metadata": {
        "gather": {
          "logged": 1709153265041
        }
      }
    },
    {
      "cell_type": "code",
      "source": [
        "# Import Data Files\n",
        "SData = pd.read_csv('Users/rpociopa/SLR.csv')"
      ],
      "outputs": [],
      "execution_count": 2,
      "metadata": {
        "gather": {
          "logged": 1709153295311
        }
      }
    },
    {
      "cell_type": "code",
      "source": [
        "# Examine dataset 1: Ask for # of rows and columns\n",
        "SData.shape"
      ],
      "outputs": [
        {
          "output_type": "execute_result",
          "execution_count": 3,
          "data": {
            "text/plain": "(84, 2)"
          },
          "metadata": {}
        }
      ],
      "execution_count": 3,
      "metadata": {
        "gather": {
          "logged": 1709153297539
        }
      }
    },
    {
      "cell_type": "code",
      "source": [
        "# Examine dataset 2: List column names\n",
        "SData.columns"
      ],
      "outputs": [
        {
          "output_type": "execute_result",
          "execution_count": 4,
          "data": {
            "text/plain": "Index(['SAT', 'GPA'], dtype='object')"
          },
          "metadata": {}
        }
      ],
      "execution_count": 4,
      "metadata": {
        "gather": {
          "logged": 1709153300392
        }
      }
    },
    {
      "cell_type": "code",
      "source": [
        "# Examine dataset 3: List first 5 rows\n",
        "SData.head(5)"
      ],
      "outputs": [
        {
          "output_type": "execute_result",
          "execution_count": 5,
          "data": {
            "text/plain": "    SAT   GPA\n0  1714  2.40\n1  1664  2.52\n2  1760  2.54\n3  1685  2.74\n4  1693  2.83",
            "text/html": "<div>\n<style scoped>\n    .dataframe tbody tr th:only-of-type {\n        vertical-align: middle;\n    }\n\n    .dataframe tbody tr th {\n        vertical-align: top;\n    }\n\n    .dataframe thead th {\n        text-align: right;\n    }\n</style>\n<table border=\"1\" class=\"dataframe\">\n  <thead>\n    <tr style=\"text-align: right;\">\n      <th></th>\n      <th>SAT</th>\n      <th>GPA</th>\n    </tr>\n  </thead>\n  <tbody>\n    <tr>\n      <th>0</th>\n      <td>1714</td>\n      <td>2.40</td>\n    </tr>\n    <tr>\n      <th>1</th>\n      <td>1664</td>\n      <td>2.52</td>\n    </tr>\n    <tr>\n      <th>2</th>\n      <td>1760</td>\n      <td>2.54</td>\n    </tr>\n    <tr>\n      <th>3</th>\n      <td>1685</td>\n      <td>2.74</td>\n    </tr>\n    <tr>\n      <th>4</th>\n      <td>1693</td>\n      <td>2.83</td>\n    </tr>\n  </tbody>\n</table>\n</div>"
          },
          "metadata": {}
        }
      ],
      "execution_count": 5,
      "metadata": {
        "gather": {
          "logged": 1709153304608
        }
      }
    },
    {
      "cell_type": "code",
      "source": [
        "# Examine dataset 4: Basic info for all columns\n",
        "SData.info"
      ],
      "outputs": [
        {
          "output_type": "execute_result",
          "execution_count": 6,
          "data": {
            "text/plain": "<bound method DataFrame.info of      SAT   GPA\n0   1714  2.40\n1   1664  2.52\n2   1760  2.54\n3   1685  2.74\n4   1693  2.83\n..   ...   ...\n79  1936  3.71\n80  1810  3.71\n81  1987  3.73\n82  1962  3.76\n83  2050  3.81\n\n[84 rows x 2 columns]>"
          },
          "metadata": {}
        }
      ],
      "execution_count": 6,
      "metadata": {
        "gather": {
          "logged": 1709064627836
        }
      }
    },
    {
      "cell_type": "code",
      "source": [
        "# Examine dataset 5: Basic statistics. Shows Precip has 4 more data points. Likely there are null values in the others. For some reason drop did not work and I removed manually in Excel\n",
        "SData.describe()"
      ],
      "outputs": [
        {
          "output_type": "execute_result",
          "execution_count": 6,
          "data": {
            "text/plain": "               SAT        GPA\ncount    84.000000  84.000000\nmean   1845.273810   3.330238\nstd     104.530661   0.271617\nmin    1634.000000   2.400000\n25%    1772.000000   3.190000\n50%    1846.000000   3.380000\n75%    1934.000000   3.502500\nmax    2050.000000   3.810000",
            "text/html": "<div>\n<style scoped>\n    .dataframe tbody tr th:only-of-type {\n        vertical-align: middle;\n    }\n\n    .dataframe tbody tr th {\n        vertical-align: top;\n    }\n\n    .dataframe thead th {\n        text-align: right;\n    }\n</style>\n<table border=\"1\" class=\"dataframe\">\n  <thead>\n    <tr style=\"text-align: right;\">\n      <th></th>\n      <th>SAT</th>\n      <th>GPA</th>\n    </tr>\n  </thead>\n  <tbody>\n    <tr>\n      <th>count</th>\n      <td>84.000000</td>\n      <td>84.000000</td>\n    </tr>\n    <tr>\n      <th>mean</th>\n      <td>1845.273810</td>\n      <td>3.330238</td>\n    </tr>\n    <tr>\n      <th>std</th>\n      <td>104.530661</td>\n      <td>0.271617</td>\n    </tr>\n    <tr>\n      <th>min</th>\n      <td>1634.000000</td>\n      <td>2.400000</td>\n    </tr>\n    <tr>\n      <th>25%</th>\n      <td>1772.000000</td>\n      <td>3.190000</td>\n    </tr>\n    <tr>\n      <th>50%</th>\n      <td>1846.000000</td>\n      <td>3.380000</td>\n    </tr>\n    <tr>\n      <th>75%</th>\n      <td>1934.000000</td>\n      <td>3.502500</td>\n    </tr>\n    <tr>\n      <th>max</th>\n      <td>2050.000000</td>\n      <td>3.810000</td>\n    </tr>\n  </tbody>\n</table>\n</div>"
          },
          "metadata": {}
        }
      ],
      "execution_count": 6,
      "metadata": {
        "gather": {
          "logged": 1709153380053
        }
      }
    },
    {
      "cell_type": "code",
      "source": [
        "from sklearn import datasets, linear_model\n",
        "from sklearn.metrics import mean_squared_error, r2_score, mean_absolute_error"
      ],
      "outputs": [],
      "execution_count": 7,
      "metadata": {
        "gather": {
          "logged": 1709153444117
        }
      }
    },
    {
      "cell_type": "code",
      "source": [
        "List = SData[['SAT', 'GPA']]"
      ],
      "outputs": [],
      "execution_count": 9,
      "metadata": {
        "gather": {
          "logged": 1709153709890
        }
      }
    },
    {
      "cell_type": "code",
      "source": [
        "SData"
      ],
      "outputs": [
        {
          "output_type": "execute_result",
          "execution_count": 11,
          "data": {
            "text/plain": "     SAT   GPA\n0   1714  2.40\n1   1664  2.52\n2   1760  2.54\n3   1685  2.74\n4   1693  2.83\n..   ...   ...\n79  1936  3.71\n80  1810  3.71\n81  1987  3.73\n82  1962  3.76\n83  2050  3.81\n\n[84 rows x 2 columns]",
            "text/html": "<div>\n<style scoped>\n    .dataframe tbody tr th:only-of-type {\n        vertical-align: middle;\n    }\n\n    .dataframe tbody tr th {\n        vertical-align: top;\n    }\n\n    .dataframe thead th {\n        text-align: right;\n    }\n</style>\n<table border=\"1\" class=\"dataframe\">\n  <thead>\n    <tr style=\"text-align: right;\">\n      <th></th>\n      <th>SAT</th>\n      <th>GPA</th>\n    </tr>\n  </thead>\n  <tbody>\n    <tr>\n      <th>0</th>\n      <td>1714</td>\n      <td>2.40</td>\n    </tr>\n    <tr>\n      <th>1</th>\n      <td>1664</td>\n      <td>2.52</td>\n    </tr>\n    <tr>\n      <th>2</th>\n      <td>1760</td>\n      <td>2.54</td>\n    </tr>\n    <tr>\n      <th>3</th>\n      <td>1685</td>\n      <td>2.74</td>\n    </tr>\n    <tr>\n      <th>4</th>\n      <td>1693</td>\n      <td>2.83</td>\n    </tr>\n    <tr>\n      <th>...</th>\n      <td>...</td>\n      <td>...</td>\n    </tr>\n    <tr>\n      <th>79</th>\n      <td>1936</td>\n      <td>3.71</td>\n    </tr>\n    <tr>\n      <th>80</th>\n      <td>1810</td>\n      <td>3.71</td>\n    </tr>\n    <tr>\n      <th>81</th>\n      <td>1987</td>\n      <td>3.73</td>\n    </tr>\n    <tr>\n      <th>82</th>\n      <td>1962</td>\n      <td>3.76</td>\n    </tr>\n    <tr>\n      <th>83</th>\n      <td>2050</td>\n      <td>3.81</td>\n    </tr>\n  </tbody>\n</table>\n<p>84 rows × 2 columns</p>\n</div>"
          },
          "metadata": {}
        }
      ],
      "execution_count": 11,
      "metadata": {
        "gather": {
          "logged": 1709153721088
        }
      }
    },
    {
      "cell_type": "code",
      "source": [
        "X = SData['SAT']\n",
        "y = SData['GPA']"
      ],
      "outputs": [],
      "execution_count": 13,
      "metadata": {
        "gather": {
          "logged": 1709153828877
        }
      }
    },
    {
      "cell_type": "code",
      "source": [
        "plt.scatter(X, y)\n",
        "plt.xlabel(\"SAT Score\")\n",
        "plt.ylabel(\"Grade Point Avg\")"
      ],
      "outputs": [
        {
          "output_type": "execute_result",
          "execution_count": 14,
          "data": {
            "text/plain": "Text(0, 0.5, 'Grade Point Avg')"
          },
          "metadata": {}
        },
        {
          "output_type": "display_data",
          "data": {
            "text/plain": "<Figure size 640x480 with 1 Axes>",
            "image/png": "[encoded data removed]"
          },
          "metadata": {}
        }
      ],
      "execution_count": 14,
      "metadata": {
        "gather": {
          "logged": 1709153832291
        }
      }
    },
    {
      "cell_type": "code",
      "source": [
        "from sklearn.model_selection import train_test_split\n",
        "X_train, X_test, y_train, y_test, = train_test_split(X, y, test_size = 0.3)"
      ],
      "outputs": [],
      "execution_count": 15,
      "metadata": {
        "gather": {
          "logged": 1709153943249
        }
      }
    },
    {
      "cell_type": "code",
      "source": [
        "from sklearn.linear_model import LinearRegression"
      ],
      "outputs": [],
      "execution_count": 16,
      "metadata": {
        "gather": {
          "logged": 1709153969723
        }
      }
    },
    {
      "cell_type": "code",
      "source": [
        "lr = LinearRegression()"
      ],
      "outputs": [],
      "execution_count": 17,
      "metadata": {
        "gather": {
          "logged": 1709153971898
        }
      }
    },
    {
      "cell_type": "code",
      "source": [
        "# Data needs to be put into arrays because reasons\n",
        "X_train = np.array(X_train).reshape(-1, 1)"
      ],
      "outputs": [],
      "execution_count": 18,
      "metadata": {
        "gather": {
          "logged": 1709153975039
        }
      }
    },
    {
      "cell_type": "code",
      "source": [
        "print(X_train)"
      ],
      "outputs": [
        {
          "output_type": "stream",
          "name": "stdout",
          "text": "[[1849]\n [1855]\n [1887]\n [1934]\n [2015]\n [1974]\n [1714]\n [1702]\n [1925]\n [1634]\n [1891]\n [1808]\n [1893]\n [1990]\n [1865]\n [1735]\n [1842]\n [1826]\n [1761]\n [1787]\n [1769]\n [1956]\n [1832]\n [1987]\n [1843]\n [1760]\n [1786]\n [1931]\n [1831]\n [1850]\n [1964]\n [1962]\n [1664]\n [2020]\n [1674]\n [1821]\n [1755]\n [1879]\n [1975]\n [1670]\n [1808]\n [1777]\n [1997]\n [1775]\n [1936]\n [1663]\n [2041]\n [1953]\n [1693]\n [1966]\n [1781]\n [1773]\n [1893]\n [1687]\n [1802]\n [1907]\n [1850]\n [1861]]\n"
        }
      ],
      "execution_count": 19,
      "metadata": {
        "gather": {
          "logged": 1709153979912
        }
      }
    },
    {
      "cell_type": "code",
      "source": [
        "X_test = np.array(X_test).reshape(-1, 1)\n",
        "print(X_test)"
      ],
      "outputs": [
        {
          "output_type": "stream",
          "name": "stdout",
          "text": "[[1857]\n [1934]\n [1824]\n [1775]\n [1954]\n [1735]\n [1933]\n [1722]\n [1855]\n [1764]\n [2050]\n [1934]\n [1712]\n [2020]\n [1810]\n [2021]\n [1730]\n [1685]\n [1778]\n [1880]\n [1794]\n [1850]\n [1979]\n [1792]\n [1872]\n [1764]]\n"
        }
      ],
      "execution_count": 20,
      "metadata": {
        "gather": {
          "logged": 1709154053618
        }
      }
    },
    {
      "cell_type": "code",
      "source": [
        "lr.fit(X_train, y_train)"
      ],
      "outputs": [
        {
          "output_type": "execute_result",
          "execution_count": 21,
          "data": {
            "text/plain": "LinearRegression()",
            "text/html": "<style>#sk-container-id-1 {color: black;}#sk-container-id-1 pre{padding: 0;}#sk-container-id-1 div.sk-toggleable {background-color: white;}#sk-container-id-1 label.sk-toggleable__label {cursor: pointer;display: block;width: 100%;margin-bottom: 0;padding: 0.3em;box-sizing: border-box;text-align: center;}#sk-container-id-1 label.sk-toggleable__label-arrow:before {content: \"▸\";float: left;margin-right: 0.25em;color: #696969;}#sk-container-id-1 label.sk-toggleable__label-arrow:hover:before {color: black;}#sk-container-id-1 div.sk-estimator:hover label.sk-toggleable__label-arrow:before {color: black;}#sk-container-id-1 div.sk-toggleable__content {max-height: 0;max-width: 0;overflow: hidden;text-align: left;background-color: #f0f8ff;}#sk-container-id-1 div.sk-toggleable__content pre {margin: 0.2em;color: black;border-radius: 0.25em;background-color: #f0f8ff;}#sk-container-id-1 input.sk-toggleable__control:checked~div.sk-toggleable__content {max-height: 200px;max-width: 100%;overflow: auto;}#sk-container-id-1 input.sk-toggleable__control:checked~label.sk-toggleable__label-arrow:before {content: \"▾\";}#sk-container-id-1 div.sk-estimator input.sk-toggleable__control:checked~label.sk-toggleable__label {background-color: #d4ebff;}#sk-container-id-1 div.sk-label input.sk-toggleable__control:checked~label.sk-toggleable__label {background-color: #d4ebff;}#sk-container-id-1 input.sk-hidden--visually {border: 0;clip: rect(1px 1px 1px 1px);clip: rect(1px, 1px, 1px, 1px);height: 1px;margin: -1px;overflow: hidden;padding: 0;position: absolute;width: 1px;}#sk-container-id-1 div.sk-estimator {font-family: monospace;background-color: #f0f8ff;border: 1px dotted black;border-radius: 0.25em;box-sizing: border-box;margin-bottom: 0.5em;}#sk-container-id-1 div.sk-estimator:hover {background-color: #d4ebff;}#sk-container-id-1 div.sk-parallel-item::after {content: \"\";width: 100%;border-bottom: 1px solid gray;flex-grow: 1;}#sk-container-id-1 div.sk-label:hover label.sk-toggleable__label {background-color: #d4ebff;}#sk-container-id-1 div.sk-serial::before {content: \"\";position: absolute;border-left: 1px solid gray;box-sizing: border-box;top: 0;bottom: 0;left: 50%;z-index: 0;}#sk-container-id-1 div.sk-serial {display: flex;flex-direction: column;align-items: center;background-color: white;padding-right: 0.2em;padding-left: 0.2em;position: relative;}#sk-container-id-1 div.sk-item {position: relative;z-index: 1;}#sk-container-id-1 div.sk-parallel {display: flex;align-items: stretch;justify-content: center;background-color: white;position: relative;}#sk-container-id-1 div.sk-item::before, #sk-container-id-1 div.sk-parallel-item::before {content: \"\";position: absolute;border-left: 1px solid gray;box-sizing: border-box;top: 0;bottom: 0;left: 50%;z-index: -1;}#sk-container-id-1 div.sk-parallel-item {display: flex;flex-direction: column;z-index: 1;position: relative;background-color: white;}#sk-container-id-1 div.sk-parallel-item:first-child::after {align-self: flex-end;width: 50%;}#sk-container-id-1 div.sk-parallel-item:last-child::after {align-self: flex-start;width: 50%;}#sk-container-id-1 div.sk-parallel-item:only-child::after {width: 0;}#sk-container-id-1 div.sk-dashed-wrapped {border: 1px dashed gray;margin: 0 0.4em 0.5em 0.4em;box-sizing: border-box;padding-bottom: 0.4em;background-color: white;}#sk-container-id-1 div.sk-label label {font-family: monospace;font-weight: bold;display: inline-block;line-height: 1.2em;}#sk-container-id-1 div.sk-label-container {text-align: center;}#sk-container-id-1 div.sk-container {/* jupyter's `normalize.less` sets `[hidden] { display: none; }` but bootstrap.min.css set `[hidden] { display: none !important; }` so we also need the `!important` here to be able to override the default hidden behavior on the sphinx rendered scikit-learn.org. See: https://github.com/scikit-learn/scikit-learn/issues/21755 */display: inline-block !important;position: relative;}#sk-container-id-1 div.sk-text-repr-fallback {display: none;}</style><div id=\"sk-container-id-1\" class=\"sk-top-container\"><div class=\"sk-text-repr-fallback\"><pre>LinearRegression()</pre><b>In a Jupyter environment, please rerun this cell to show the HTML representation or trust the notebook. <br />On GitHub, the HTML representation is unable to render, please try loading this page with nbviewer.org.</b></div><div class=\"sk-container\" hidden><div class=\"sk-item\"><div class=\"sk-estimator sk-toggleable\"><input class=\"sk-toggleable__control sk-hidden--visually\" id=\"sk-estimator-id-1\" type=\"checkbox\" checked><label for=\"sk-estimator-id-1\" class=\"sk-toggleable__label sk-toggleable__label-arrow\">LinearRegression</label><div class=\"sk-toggleable__content\"><pre>LinearRegression()</pre></div></div></div></div></div>"
          },
          "metadata": {}
        }
      ],
      "execution_count": 21,
      "metadata": {
        "gather": {
          "logged": 1709154061728
        }
      }
    },
    {
      "cell_type": "code",
      "source": [
        "c = lr.intercept_\n",
        "c"
      ],
      "outputs": [
        {
          "output_type": "execute_result",
          "execution_count": 22,
          "data": {
            "text/plain": "0.11712557616760977"
          },
          "metadata": {}
        }
      ],
      "execution_count": 22,
      "metadata": {
        "gather": {
          "logged": 1709154066421
        }
      }
    },
    {
      "cell_type": "code",
      "source": [
        "m = lr.coef_\n",
        "m"
      ],
      "outputs": [
        {
          "output_type": "execute_result",
          "execution_count": 23,
          "data": {
            "text/plain": "array([0.00174527])"
          },
          "metadata": {}
        }
      ],
      "execution_count": 23,
      "metadata": {
        "gather": {
          "logged": 1709154096931
        }
      }
    },
    {
      "cell_type": "code",
      "source": [
        "Y_pred_train = m*X_train + c\n",
        "Y_pred_train.flatten()"
      ],
      "outputs": [
        {
          "output_type": "execute_result",
          "execution_count": 24,
          "data": {
            "text/plain": "array([3.34412077, 3.35459236, 3.41044085, 3.49246831, 3.63383478,\n       3.56227891, 3.10850998, 3.0875668 , 3.47676092, 2.96888877,\n       3.41742191, 3.2725649 , 3.42091244, 3.59020315, 3.37204501,\n       3.14516055, 3.33190392, 3.30397967, 3.19053744, 3.23591433,\n       3.20449956, 3.53086414, 3.31445126, 3.58496736, 3.33364918,\n       3.18879218, 3.23416907, 3.48723251, 3.312706  , 3.34586604,\n       3.54482626, 3.54133573, 3.02124673, 3.64256111, 3.03869938,\n       3.29525335, 3.18006585, 3.39647872, 3.56402418, 3.03171832,\n       3.2725649 , 3.21846168, 3.60242001, 3.21497115, 3.49595884,\n       3.01950146, 3.67921167, 3.52562834, 3.07185941, 3.54831679,\n       3.22544274, 3.21148062, 3.42091244, 3.06138782, 3.26209331,\n       3.44534615, 3.34586604, 3.36506395])"
          },
          "metadata": {}
        }
      ],
      "execution_count": 24,
      "metadata": {
        "gather": {
          "logged": 1709154099817
        }
      }
    },
    {
      "cell_type": "code",
      "source": [
        "y_pred_train1 = lr.predict(X_train)\n",
        "y_pred_train1"
      ],
      "outputs": [
        {
          "output_type": "execute_result",
          "execution_count": 25,
          "data": {
            "text/plain": "array([3.34412077, 3.35459236, 3.41044085, 3.49246831, 3.63383478,\n       3.56227891, 3.10850998, 3.0875668 , 3.47676092, 2.96888877,\n       3.41742191, 3.2725649 , 3.42091244, 3.59020315, 3.37204501,\n       3.14516055, 3.33190392, 3.30397967, 3.19053744, 3.23591433,\n       3.20449956, 3.53086414, 3.31445126, 3.58496736, 3.33364918,\n       3.18879218, 3.23416907, 3.48723251, 3.312706  , 3.34586604,\n       3.54482626, 3.54133573, 3.02124673, 3.64256111, 3.03869938,\n       3.29525335, 3.18006585, 3.39647872, 3.56402418, 3.03171832,\n       3.2725649 , 3.21846168, 3.60242001, 3.21497115, 3.49595884,\n       3.01950146, 3.67921167, 3.52562834, 3.07185941, 3.54831679,\n       3.22544274, 3.21148062, 3.42091244, 3.06138782, 3.26209331,\n       3.44534615, 3.34586604, 3.36506395])"
          },
          "metadata": {}
        }
      ],
      "execution_count": 25,
      "metadata": {
        "gather": {
          "logged": 1709154106205
        }
      }
    },
    {
      "cell_type": "code",
      "source": [
        "y_pred_test1 = lr.predict(X_test)\n",
        "y_pred_test1"
      ],
      "outputs": [
        {
          "output_type": "execute_result",
          "execution_count": 26,
          "data": {
            "text/plain": "array([3.35808289, 3.49246831, 3.30048914, 3.21497115, 3.52737361,\n       3.14516055, 3.49072304, 3.1224721 , 3.35459236, 3.19577324,\n       3.69491906, 3.49246831, 3.10501945, 3.64256111, 3.27605543,\n       3.64430637, 3.13643422, 3.05789729, 3.22020695, 3.39822399,\n       3.24813119, 3.34586604, 3.57100524, 3.24464066, 3.38426187,\n       3.19577324])"
          },
          "metadata": {}
        }
      ],
      "execution_count": 26,
      "metadata": {
        "gather": {
          "logged": 1709154112558
        }
      }
    },
    {
      "cell_type": "code",
      "source": [
        "plt.scatter(X_train, y_train)\n",
        "plt.scatter(X_train, y_pred_train1, color ='red')\n",
        "plt.xlabel(\"SAT Score\")\n",
        "plt.ylabel(\"Grade Point Avg\")"
      ],
      "outputs": [
        {
          "output_type": "execute_result",
          "execution_count": 28,
          "data": {
            "text/plain": "Text(0, 0.5, 'Grade Point Avg')"
          },
          "metadata": {}
        },
        {
          "output_type": "display_data",
          "data": {
            "text/plain": "<Figure size 640x480 with 1 Axes>",
            "image/png": "[encoded data removed]"
          },
          "metadata": {}
        }
      ],
      "execution_count": 28,
      "metadata": {
        "gather": {
          "logged": 1709154127662
        }
      }
    },
    {
      "cell_type": "code",
      "source": [
        "plt.scatter(X_test, y_test)\n",
        "plt.scatter(X_test, y_pred_test1, color ='red')\n",
        "plt.xlabel(\"SAT Score\")\n",
        "plt.ylabel(\"Grade Point Avg\")"
      ],
      "outputs": [
        {
          "output_type": "execute_result",
          "execution_count": 29,
          "data": {
            "text/plain": "Text(0, 0.5, 'Grade Point Avg')"
          },
          "metadata": {}
        },
        {
          "output_type": "display_data",
          "data": {
            "text/plain": "<Figure size 640x480 with 1 Axes>",
            "image/png": "[encoded data removed]"
          },
          "metadata": {}
        }
      ],
      "execution_count": 29,
      "metadata": {
        "gather": {
          "logged": 1709154145757
        }
      }
    },
    {
      "cell_type": "code",
      "source": [
        "mae = mean_absolute_error(y_test, y_pred_test1)\n",
        "mse = mean_squared_error(y_test, y_pred_test1)\n",
        "r_squared = r2_score(y_test, y_pred_test1)\n",
        "rmse = np.sqrt(mse)"
      ],
      "outputs": [],
      "execution_count": 30,
      "metadata": {
        "gather": {
          "logged": 1709154154153
        }
      }
    },
    {
      "cell_type": "code",
      "source": [
        "print('Mean Absolute Error:', mae)\n",
        "print('Mean Squared Error:', mse)\n",
        "print('r_squared:', r_squared)\n",
        "print('RootMean SqError:', rmse)"
      ],
      "outputs": [
        {
          "output_type": "stream",
          "name": "stdout",
          "text": "Mean Absolute Error: 0.16377837485803434\nMean Squared Error: 0.04021562946462188\nr_squared: 0.3387067497425349\nRootMean SqError: 0.20053834911213836\n"
        }
      ],
      "execution_count": 31,
      "metadata": {
        "gather": {
          "logged": 1709154157256
        }
      }
    }
  ],
  "metadata": {
    "kernelspec": {
      "name": "python3",
      "language": "python",
      "display_name": "Python 3 (ipykernel)"
    },
    "language_info": {
      "name": "python",
      "version": "3.8.5",
      "mimetype": "text/x-python",
      "codemirror_mode": {
        "name": "ipython",
        "version": 3
      },
      "pygments_lexer": "ipython3",
      "nbconvert_exporter": "python",
      "file_extension": ".py"
    },
    "microsoft": {
      "ms_spell_check": {
        "ms_spell_check_language": "en"
      },
      "host": {
        "AzureML": {
          "notebookHasBeenCompleted": true
        }
      }
    },
    "kernel_info": {
      "name": "python3"
    },
    "nteract": {
      "version": "nteract-front-end@1.0.0"
    }
  },
  "nbformat": 4,
  "nbformat_minor": 4
}